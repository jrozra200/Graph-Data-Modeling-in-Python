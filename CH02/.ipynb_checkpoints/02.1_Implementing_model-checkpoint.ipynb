{
 "cells": [
  {
   "cell_type": "markdown",
   "metadata": {},
   "source": [
    "# Implementing the model in Python"
   ]
  },
  {
   "cell_type": "markdown",
   "metadata": {},
   "source": [
    "Before we dive into implementing the model, we need to get setup ready to create our graph with *igraph*."
   ]
  },
  {
   "cell_type": "markdown",
   "metadata": {},
   "source": [
    "## Getting setup"
   ]
  },
  {
   "cell_type": "markdown",
   "metadata": {},
   "source": [
    "Read in data for targets (nodes), using the `csv` library."
   ]
  },
  {
   "cell_type": "code",
   "execution_count": 1,
   "metadata": {},
   "outputs": [
    {
     "name": "stdout",
     "output_type": "stream",
     "text": [
      "[['id', 'facebook_id', 'page_name', 'page_type'], ['0', '145647315578475', 'The Voice of China 中国好声音', 'tvshow'], ['1', '191483281412', 'U.S. Consulate General Mumbai', 'government'], ['2', '144761358898518', 'ESET', 'company'], ['3', '568700043198473', 'Consulate General of Switzerland in Montreal', 'government'], ['4', '1408935539376139', 'Mark Bailey MP - Labor for Miller', 'politician'], ['5', '134464673284112', 'Victor Dominello MP', 'politician'], ['6', '282657255260177', 'Jean-Claude Poissant', 'politician'], ['7', '239338246176789', 'Deputado Ademir Camilo', 'politician'], ['8', '544818128942324', 'T.C. Mezar-ı Şerif Başkonsolosluğu', 'government']]\n",
      "22471\n"
     ]
    }
   ],
   "source": [
    "import csv\n",
    "with open('./data/musae_facebook_target.csv', 'r', encoding='utf-8') as csv_file:\n",
    "    reader = csv.reader(csv_file)\n",
    "    data = [line for line in reader]\n",
    "    print(data[:10])\n",
    "    print(len(data))"
   ]
  },
  {
   "cell_type": "markdown",
   "metadata": {},
   "source": [
    "## Adding nodes and attributes"
   ]
  },
  {
   "cell_type": "markdown",
   "metadata": {},
   "source": [
    "For each row (after row 0, which is the header row), create a list for each of the following:\n",
    "\n",
    "1. Node IDs\n",
    "2. Page Names\n",
    "3. Page Types"
   ]
  },
  {
   "cell_type": "code",
   "execution_count": 2,
   "metadata": {},
   "outputs": [],
   "source": [
    "node_ids = [int(row[0]) for row in data[1:]]\n",
    "page_names = [row[2] for row in data[1:]]\n",
    "page_types = [row[3] for row in data[1:]]"
   ]
  },
  {
   "cell_type": "markdown",
   "metadata": {},
   "source": [
    "In the following cell, we make sure the each node is in order from 0 to the \n",
    "length of the list of node_ids minus 1."
   ]
  },
  {
   "cell_type": "code",
   "execution_count": 3,
   "metadata": {},
   "outputs": [],
   "source": [
    "assert node_ids == list(range(len(node_ids)))"
   ]
  },
  {
   "cell_type": "markdown",
   "metadata": {},
   "source": [
    "Create an empty graph and insert the number of nodes in `node_ids` list."
   ]
  },
  {
   "cell_type": "code",
   "execution_count": 4,
   "metadata": {},
   "outputs": [],
   "source": [
    "import igraph as ig\n",
    "g = ig.Graph(directed=False)\n",
    "g.add_vertices(len(node_ids))"
   ]
  },
  {
   "cell_type": "markdown",
   "metadata": {},
   "source": [
    "Access the `g.vs` attribute and check that it is the same length as `node_ids`"
   ]
  },
  {
   "cell_type": "code",
   "execution_count": 6,
   "metadata": {},
   "outputs": [
    {
     "name": "stdout",
     "output_type": "stream",
     "text": [
      "22470\n"
     ]
    }
   ],
   "source": [
    "print(len(g.vs))"
   ]
  },
  {
   "cell_type": "code",
   "execution_count": 8,
   "metadata": {},
   "outputs": [
    {
     "data": {
      "text/plain": [
       "True"
      ]
     },
     "execution_count": 8,
     "metadata": {},
     "output_type": "execute_result"
    }
   ],
   "source": [
    "len(node_ids) == len(g.vs)"
   ]
  },
  {
   "cell_type": "markdown",
   "metadata": {},
   "source": [
    "Add the page name and page type as attributes to each node."
   ]
  },
  {
   "cell_type": "code",
   "execution_count": 9,
   "metadata": {},
   "outputs": [],
   "source": [
    "g.vs['page_name'] = page_names\n",
    "g.vs['page_type'] = page_types"
   ]
  },
  {
   "cell_type": "code",
   "execution_count": 10,
   "metadata": {},
   "outputs": [
    {
     "name": "stdout",
     "output_type": "stream",
     "text": [
      "The Voice of China 中国好声音\n",
      "tvshow\n"
     ]
    }
   ],
   "source": [
    "print(g.vs[0]['page_name'])\n",
    "print(g.vs[0]['page_type'])"
   ]
  },
  {
   "cell_type": "markdown",
   "metadata": {},
   "source": [
    "## Adding edges"
   ]
  },
  {
   "cell_type": "markdown",
   "metadata": {},
   "source": [
    "Import in the edges file."
   ]
  },
  {
   "cell_type": "code",
   "execution_count": 11,
   "metadata": {},
   "outputs": [
    {
     "name": "stdout",
     "output_type": "stream",
     "text": [
      "[['id_1', 'id_2'], ['0', '18427'], ['1', '21708'], ['1', '22208'], ['1', '22171'], ['1', '6829'], ['1', '16590'], ['1', '20135'], ['1', '8894'], ['1', '15785']]\n",
      "171003\n"
     ]
    }
   ],
   "source": [
    "with open('./data/musae_facebook_edges.csv', 'r') as csv_file_2:\n",
    "\treader = csv.reader(csv_file_2)\n",
    "\tedge_data = [row for row in reader]\n",
    "\tprint(edge_data[:10])\n",
    "\tprint(len(edge_data))"
   ]
  },
  {
   "cell_type": "markdown",
   "metadata": {},
   "source": [
    "Convert each node to an integer (from a string)."
   ]
  },
  {
   "cell_type": "code",
   "execution_count": 12,
   "metadata": {},
   "outputs": [
    {
     "name": "stdout",
     "output_type": "stream",
     "text": [
      "[[0, 18427], [1, 21708], [1, 22208], [1, 22171], [1, 6829], [1, 16590], [1, 20135], [1, 8894], [1, 15785], [1, 10281]]\n"
     ]
    }
   ],
   "source": [
    "edges = [[int(row[0]), int(row[1])] for row in edge_data[1:]]\n",
    "print(edges[:10])"
   ]
  },
  {
   "cell_type": "markdown",
   "metadata": {},
   "source": [
    "Add the edges (the links between nodes). This translate from `0` (source) to `1` (target)."
   ]
  },
  {
   "cell_type": "code",
   "execution_count": 13,
   "metadata": {},
   "outputs": [],
   "source": [
    "g.add_edges(edges)"
   ]
  },
  {
   "cell_type": "markdown",
   "metadata": {},
   "source": [
    "Confirm that the edges have been added:"
   ]
  },
  {
   "cell_type": "code",
   "execution_count": 14,
   "metadata": {},
   "outputs": [
    {
     "name": "stdout",
     "output_type": "stream",
     "text": [
      "171002\n"
     ]
    }
   ],
   "source": [
    "print(len(g.es))"
   ]
  },
  {
   "cell_type": "markdown",
   "metadata": {},
   "source": [
    "Let's check the first edge from our csv."
   ]
  },
  {
   "cell_type": "code",
   "execution_count": 15,
   "metadata": {},
   "outputs": [],
   "source": [
    "first_edge = g.es[0]"
   ]
  },
  {
   "cell_type": "code",
   "execution_count": 16,
   "metadata": {},
   "outputs": [
    {
     "name": "stdout",
     "output_type": "stream",
     "text": [
      "0\n",
      "18427\n"
     ]
    }
   ],
   "source": [
    "print(first_edge.source)\n",
    "print(first_edge.target)"
   ]
  },
  {
   "cell_type": "markdown",
   "metadata": {},
   "source": [
    "We can see the page names for both the source and the target here. "
   ]
  },
  {
   "cell_type": "code",
   "execution_count": 18,
   "metadata": {},
   "outputs": [
    {
     "name": "stdout",
     "output_type": "stream",
     "text": [
      "The Voice of China 中国好声音\n",
      "The Voice Global\n"
     ]
    }
   ],
   "source": [
    "print(g.vs[first_edge.source]['page_name'])\n",
    "print(g.vs[first_edge.target]['page_name'])"
   ]
  },
  {
   "cell_type": "markdown",
   "metadata": {},
   "source": [
    "## Writing a generic graph import method"
   ]
  },
  {
   "cell_type": "markdown",
   "metadata": {},
   "source": [
    "Create a standard read csv function."
   ]
  },
  {
   "cell_type": "code",
   "execution_count": 19,
   "metadata": {},
   "outputs": [],
   "source": [
    "def read_csv(csv_path):\n",
    "    ''''\n",
    "    Import a csv file.\n",
    " \n",
    "    :param csv_path: Path to the csv to import.\n",
    "    :return: A list of lists read from the csv.\n",
    "    '''\n",
    " \n",
    "    import csv\n",
    "    import os\n",
    " \n",
    "    assert os.path.exists(csv_path), \\\n",
    "        f'File could not be found at {csv_path}.'\n",
    " \n",
    "    with open(csv_path, 'r', encoding='utf-8') as csv_file:\n",
    "        reader = csv.reader(csv_file)\n",
    "        data = [row for row in reader]\n",
    " \n",
    "    return data"
   ]
  },
  {
   "cell_type": "markdown",
   "metadata": {},
   "source": [
    "Create a function that automatically adds in nodes to a graph."
   ]
  },
  {
   "cell_type": "code",
   "execution_count": 20,
   "metadata": {},
   "outputs": [],
   "source": [
    "def add_nodes(g, nodes, attributes):\n",
    "    '''\n",
    "    Add nodes to the graph.\n",
    " \n",
    "    :param g: An igraph Graph() object.\n",
    "    :param nodes: A list of lists containing nodes and node attributes, with a header. The first\n",
    "                  element of each list in nodes should be the node ID.\n",
    "    :param attributes: A list of attributes corresponding to the header (index 0) of the nodes list.\n",
    "                       The names of attributes in this list will be added to the graph.\n",
    "    '''\n",
    " \n",
    "    assert nodes[0][0] == 'id', \\\n",
    "        f'The first column in the imported csv should be the ID header, \"id\". Instead, it '\\\n",
    "        f'is {nodes[0][0]}.'\n",
    " \n",
    "    node_ids = [int(row[0]) for row in nodes[1:]]\n",
    "    assert node_ids == list(range(len(node_ids))), \\\n",
    "        f'Node IDs should increase sequentially in the imported csv, from 0 to the number of'\\\n",
    "        f' nodes-1, {len(node_ids)}.'\n",
    " \n",
    "    assert isinstance(attributes, list), \\\n",
    "        f'Attributes to add to the graph should be a list. Instead attributes is of type'\\\n",
    "        f' {type(attributes)}.'\n",
    " \n",
    "    g.add_vertices(len(node_ids))\n",
    " \n",
    "    headers = nodes[0]\n",
    "    for attribute in attributes:\n",
    "        attr_index = headers.index(attribute)\n",
    "        g.vs[attribute] = [row[attr_index] for row in nodes[1:]]\n",
    " \n",
    "    return g\n"
   ]
  },
  {
   "cell_type": "markdown",
   "metadata": {},
   "source": [
    "Standard function to add edges to a graph."
   ]
  },
  {
   "cell_type": "code",
   "execution_count": 21,
   "metadata": {},
   "outputs": [],
   "source": [
    "def add_edges(g, edges):\n",
    "    '''\n",
    "    Add edges to the graph, where nodes are already present.\n",
    " \n",
    "    :param g: An igraph Graph() object.\n",
    "    :param edges: A list of lists containing edges, with a header.\n",
    "    '''\n",
    "    \n",
    "    assert len(edges[0]) == 2, \\\n",
    "        f'Each element in the imported edges csv should be of length 2, representing an edge'\\\n",
    "        f' between two linked nodes. Instead, the first element is of length {len(edges)[0]}.'\n",
    " \n",
    "    edges_to_add = [[int(row[0]), int(row[1])] for row in edges[1:]]\n",
    "    g.add_edges(edges_to_add)\n",
    " \n",
    "    return g\n"
   ]
  },
  {
   "cell_type": "markdown",
   "metadata": {},
   "source": [
    "Putting the functions together to create a graph from a CSV"
   ]
  },
  {
   "cell_type": "code",
   "execution_count": 22,
   "metadata": {},
   "outputs": [],
   "source": [
    "import igraph\n",
    "def graph_from_attributes_and_edgelist(node_attr_csv, edgelist_csv, attributes):\n",
    "    \n",
    "    g = igraph.Graph(directed=False)\n",
    " \n",
    "    nodes = read_csv(node_attr_csv)\n",
    "    edges = read_csv(edgelist_csv)\n",
    " \n",
    "    g = add_nodes(g, nodes, attributes)\n",
    "    g = add_edges(g, edges)\n",
    " \n",
    "    return g"
   ]
  },
  {
   "cell_type": "code",
   "execution_count": 23,
   "metadata": {},
   "outputs": [],
   "source": [
    "node_attr_path = './data/musae_facebook_target.csv'\n",
    "edgelist_path = './data/musae_facebook_edges.csv'\n",
    "attributes = ['page_name', 'page_type']\n",
    "# Create a graph from our wrapper functions\n",
    "g = graph_from_attributes_and_edgelist(node_attr_path, edgelist_path, attributes)"
   ]
  },
  {
   "cell_type": "code",
   "execution_count": 25,
   "metadata": {},
   "outputs": [
    {
     "name": "stdout",
     "output_type": "stream",
     "text": [
      "The Voice of China 中国好声音\n",
      "tvshow\n",
      "0\n",
      "18427\n",
      "171002\n",
      "The Voice of China 中国好声音\n",
      "The Voice Global\n"
     ]
    }
   ],
   "source": [
    "print(g.vs[0]['page_name'])\n",
    "print(g.vs[0]['page_type'])\n",
    "first_edge = g.es[0]\n",
    "print(first_edge.source)\n",
    "print(first_edge.target)\n",
    "print(len(g.es))\n",
    "print(g.vs[first_edge.source]['page_name'])\n",
    "print(g.vs[first_edge.target]['page_name'])\n"
   ]
  },
  {
   "cell_type": "markdown",
   "metadata": {},
   "source": []
  },
  {
   "cell_type": "code",
   "execution_count": null,
   "metadata": {},
   "outputs": [],
   "source": [
    "%%writefile implement_python_model.py\n",
    "\"\"\" \n",
    "Name:       implement_python_model.py\n",
    "Author(s):  Gary Hutson & Matt Jackson on behalf of Packt publishing\n",
    "Date:       09/12/2022\n",
    "Usage:      python implement_python_model.py\n",
    "\"\"\"\n",
    "\n",
    "# Load in data\n",
    "import csv\n",
    "with open('./data/musae_facebook_target.csv', 'r', encoding='utf-8') as csv_file:\n",
    "    reader = csv.reader(csv_file)\n",
    "    data = [line for line in reader]\n",
    "    print(data[:10])\n",
    "    print(len(data))\n",
    "\n",
    "# Adding nodes and attributes\n",
    "node_ids = [int(row[0]) for row in data[1:]]\n",
    "page_names = [row[2] for row in data[1:]]\n",
    "page_types = [row[3] for row in data[1:]]\n",
    "\n",
    "# Check if the nodes ids are with the length of the node ids\n",
    "assert node_ids == list(range(len(node_ids)))\n",
    "\n",
    "# Create the graph\n",
    "import igraph as ig\n",
    "g = ig.Graph(directed=False)\n",
    "g.add_vertices(len(node_ids))\n",
    "\n",
    "print(len(g.vs))\n",
    "assert len(node_ids) == len(g.vs)\n",
    "\n",
    "# Print out the relevant vertex names\n",
    "g.vs['page_name'] = page_names\n",
    "g.vs['page_type'] = page_types\n",
    "print(g.vs[0]['page_name'])\n",
    "print(g.vs[0]['page_type'])\n",
    "\n",
    "# Adding edges - relationships to the graph\n",
    "with open('./data/musae_facebook_edges.csv', 'r') as csv_file_2:\n",
    "\treader = csv.reader(csv_file_2)\n",
    "\tedge_data = [row for row in reader]\n",
    "\tprint(edge_data[:10])\n",
    "\tprint(len(edge_data))\n",
    "\n",
    "edges = [[int(row[0]), int(row[1])] for row in edge_data[1:]]\n",
    "print(edges[:10])\n",
    "g.add_edges(edges)\n",
    "print(len(g.es))\n",
    "\n",
    "first_edge = g.es[0]\n",
    "print(first_edge.source)\n",
    "print(first_edge.target)\n",
    "print(g.vs[0]['page_name'])\n",
    "print(g.vs[18427]['page_name'])\n",
    "\n",
    "# Write a generic import method\n",
    "def read_csv(csv_path):\n",
    "    ''''\n",
    "    Import a csv file.\n",
    " \n",
    "    :param csv_path: Path to the csv to import.\n",
    "    :return: A list of lists read from the csv.\n",
    "    '''\n",
    " \n",
    "    import csv\n",
    "    import os\n",
    " \n",
    "    assert os.path.exists(csv_path), \\\n",
    "        f'File could not be found at {csv_path}.'\n",
    " \n",
    "    with open(csv_path, 'r', encoding='utf-8') as csv_file:\n",
    "        reader = csv.reader(csv_file)\n",
    "        data = [row for row in reader]\n",
    " \n",
    "    return data\n",
    "\n",
    "# Create add nodes method\n",
    "def add_nodes(g, nodes, attributes):\n",
    "    '''\n",
    "    Add nodes to the graph.\n",
    " \n",
    "    :param g: An igraph Graph() object.\n",
    "    :param nodes: A list of lists containing nodes and node attributes, with a header. The first\n",
    "                  element of each list in nodes should be the node ID.\n",
    "    :param attributes: A list of attributes corresponding to the header (index 0) of the nodes list.\n",
    "                       The names of attributes in this list will be added to the graph.\n",
    "    '''\n",
    " \n",
    "    assert nodes[0][0] == 'id', \\\n",
    "        f'The first column in the imported csv should be the ID header, \"id\". Instead, it '\\\n",
    "        f'is {nodes[0][0]}.'\n",
    " \n",
    "    node_ids = [int(row[0]) for row in nodes[1:]]\n",
    "    assert node_ids == list(range(len(node_ids))), \\\n",
    "        f'Node IDs should increase sequentially in the imported csv, from 0 to the number of'\\\n",
    "        f' nodes-1, {len(node_ids)}.'\n",
    " \n",
    "    assert isinstance(attributes, list), \\\n",
    "        f'Attributes to add to the graph should be a list. Instead attributes is of type'\\\n",
    "        f' {type(attributes)}.'\n",
    " \n",
    "    g.add_vertices(len(node_ids))\n",
    " \n",
    "    headers = nodes[0]\n",
    "    for attribute in attributes:\n",
    "        attr_index = headers.index(attribute)\n",
    "        g.vs[attribute] = [row[attr_index] for row in nodes[1:]]\n",
    " \n",
    "    return g\n",
    "\n",
    "# Create add edges method\n",
    "def add_edges(g, edges):\n",
    "    '''\n",
    "    Add edges to the graph, where nodes are already present.\n",
    " \n",
    "    :param g: An igraph Graph() object.\n",
    "    :param edges: A list of lists containing edges, with a header.\n",
    "    '''\n",
    "    \n",
    "    assert len(edges[0]) == 2, \\\n",
    "        f'Each element in the imported edges csv should be of length 2, representing an edge'\\\n",
    "        f' between two linked nodes. Instead, the first element is of length {len(edges)[0]}.'\n",
    " \n",
    "    edges_to_add = [[int(row[0]), int(row[1])] for row in edges[1:]]\n",
    "    g.add_edges(edges_to_add)\n",
    " \n",
    "    return g\n",
    "\n",
    "# Create function to bring this all together\n",
    "import igraph\n",
    "def graph_from_attributes_and_edgelist(node_attr_csv, edgelist_csv, attributes):\n",
    "    \n",
    "    g = igraph.Graph(directed=False)\n",
    " \n",
    "    nodes = read_csv(node_attr_csv)\n",
    "    edges = read_csv(edgelist_csv)\n",
    " \n",
    "    g = add_nodes(g, nodes, attributes)\n",
    "    g = add_edges(g, edges)\n",
    " \n",
    "    return g\n",
    "\n",
    "# Test our new function methods we have created\n",
    "node_attr_path = './data/musae_facebook_target.csv'\n",
    "edgelist_path = './data/musae_facebook_edges.csv'\n",
    "attributes = ['page_name', 'page_type']\n",
    "# Create a graph from our wrapper functions\n",
    "g = graph_from_attributes_and_edgelist(node_attr_path, edgelist_path, attributes)\n",
    "\n",
    "# Compare new method to original graph\n",
    "print(g.vs[0]['page_name'])\n",
    "print(g.vs[0]['page_type'])\n",
    "first_edge = g.es[0]\n",
    "print(first_edge.source)\n",
    "print(first_edge.target)\n",
    "print(len(g.es))\n",
    "print(g.vs[0]['page_name'])\n",
    "print(g.vs[18427]['page_name'])"
   ]
  }
 ],
 "metadata": {
  "kernelspec": {
   "display_name": "Python 3 (ipykernel)",
   "language": "python",
   "name": "python3"
  },
  "language_info": {
   "codemirror_mode": {
    "name": "ipython",
    "version": 3
   },
   "file_extension": ".py",
   "mimetype": "text/x-python",
   "name": "python",
   "nbconvert_exporter": "python",
   "pygments_lexer": "ipython3",
   "version": "3.11.7"
  },
  "vscode": {
   "interpreter": {
    "hash": "0e962125a6bade716827c7cd07d3b7c9b717838910a5075eb32d8b321480d4bb"
   }
  }
 },
 "nbformat": 4,
 "nbformat_minor": 4
}
